{
 "cells": [
  {
   "cell_type": "code",
   "execution_count": 1,
   "metadata": {
    "collapsed": true,
    "scrolled": false
   },
   "outputs": [],
   "source": [
    "import mxnet as mx \n",
    "from importlib import import_module\n",
    "import cv2\n",
    "import matplotlib.pyplot as plt \n",
    "import numpy as np "
   ]
  },
  {
   "cell_type": "code",
   "execution_count": 2,
   "metadata": {
    "scrolled": true
   },
   "outputs": [
    {
     "name": "stdout",
     "output_type": "stream",
     "text": [
      "<class 'mxnet.io.MXDataIter'>\n",
      "<class 'mxnet.io.MXDataIter'>\n",
      "<NDArray 3x32x32 @cpu(0)>\n"
     ]
    },
    {
     "data": {
      "image/png": "[encoded data removed]",
      "text/plain": [
       "<matplotlib.figure.Figure at 0x7f361429b090>"
      ]
     },
     "metadata": {},
     "output_type": "display_data"
    },
    {
     "data": {
      "image/png": "[encoded data removed]",
      "text/plain": [
       "<matplotlib.figure.Figure at 0x7f361b57c290>"
      ]
     },
     "metadata": {},
     "output_type": "display_data"
    }
   ],
   "source": [
    "# 1. data reading\n",
    "# labels in order: \n",
    "\"\"\"\n",
    "0 airplane\n",
    "1 automobile\n",
    "2 bird\n",
    "3 cat\n",
    "4 deer\n",
    "5 dog\n",
    "6 frog\n",
    "7 horse\n",
    "8 ship\n",
    "9 truck\n",
    "\"\"\"\n",
    "\n",
    "def get_cifar10():\n",
    "    # TODO fill all the blanks \n",
    "    # Hint\n",
    "    # rgb mean default: '123.68,116.779,103.939',\n",
    "    # pad size: whatever you think is valid, pad to 32 is good \n",
    "    # image shape:  the image shape feed into the network, e.g. (3,224,224)')\n",
    "    # num-classes: the number of classes\n",
    "    # num-examples:  the number of training examples, 50000 :)\n",
    "    # data-nthreads: default=4,number of threads for data decoding, how many cpus do you have\n",
    "    # dtype: default is float32, can be data type: float32 or float16')\n",
    "    train = mx.io.ImageRecordIter(\n",
    "            path_imgrec         = \"./cifar10_val.rec\",\n",
    "            label_width         = 1,\n",
    "            mean_r              = 123.68,\n",
    "            mean_g              = 116.779,\n",
    "            mean_b              = 103.939,\n",
    "            data_name           = 'data',\n",
    "            label_name          = 'softmax_label',\n",
    "            data_shape          = (3,32,32),\n",
    "            batch_size          = 20,\n",
    "            pad                 = 4,\n",
    "            fill_value          = 127,\n",
    "            preprocess_threads  = 4,\n",
    "            shuffle             = True)\n",
    "    val = mx.io.ImageRecordIter(\n",
    "            path_imgrec         = \"./cifar10_val.rec\",\n",
    "            label_width         = 1,\n",
    "            mean_r              = 123.68,\n",
    "            mean_g              = 116.779,\n",
    "            mean_b              = 103.939,\n",
    "            data_name           = 'data',\n",
    "            label_name          = 'softmax_label',\n",
    "            data_shape          = (3,32,32),\n",
    "            batch_size          = 20,\n",
    "            pad                 = 4,\n",
    "            fill_value          = 127,\n",
    "            preprocess_threads  = 4,\n",
    "            shuffle             = False)\n",
    "    return train, val\n",
    "\n",
    "train, val = get_cifar10()\n",
    "# TODO write the script to look what is inside train and val\n",
    "# Check the image size, and label \n",
    "# Question? check MXNET_course/mxnet-week3/cifar10/step_by_step_debug.ipynb\n",
    "print (type(train))\n",
    "print (type(val))\n",
    "# print train.label\n",
    "train.reset()\n",
    "train.next()\n",
    "val.reset()\n",
    "val.next()\n",
    "print (train.getdata()[0])\n",
    "image_0 = train.getdata()[0].asnumpy()\n",
    "plt.imshow(image_0.transpose(2,1,0))\n",
    "plt.show()\n",
    "plt.imshow(val.getdata()[0].asnumpy().transpose(2,1,0))\n",
    "plt.show()"
   ]
  },
  {
   "cell_type": "code",
   "execution_count": null,
   "metadata": {},
   "outputs": [
    {
     "name": "stdout",
     "output_type": "stream",
     "text": [
      "['data', 'bn_data_gamma', 'bn_data_beta', 'conv0_weight', 'stage1_unit1_bn1_gamma', 'stage1_unit1_bn1_beta', 'stage1_unit1_conv1_weight', 'stage1_unit1_bn2_gamma', 'stage1_unit1_bn2_beta', 'stage1_unit1_conv2_weight', 'stage1_unit1_sc_weight', 'stage1_unit2_bn1_gamma', 'stage1_unit2_bn1_beta', 'stage1_unit2_conv1_weight', 'stage1_unit2_bn2_gamma', 'stage1_unit2_bn2_beta', 'stage1_unit2_conv2_weight', 'stage1_unit3_bn1_gamma', 'stage1_unit3_bn1_beta', 'stage1_unit3_conv1_weight', 'stage1_unit3_bn2_gamma', 'stage1_unit3_bn2_beta', 'stage1_unit3_conv2_weight', 'stage2_unit1_bn1_gamma', 'stage2_unit1_bn1_beta', 'stage2_unit1_conv1_weight', 'stage2_unit1_bn2_gamma', 'stage2_unit1_bn2_beta', 'stage2_unit1_conv2_weight', 'stage2_unit1_sc_weight', 'stage2_unit2_bn1_gamma', 'stage2_unit2_bn1_beta', 'stage2_unit2_conv1_weight', 'stage2_unit2_bn2_gamma', 'stage2_unit2_bn2_beta', 'stage2_unit2_conv2_weight', 'stage2_unit3_bn1_gamma', 'stage2_unit3_bn1_beta', 'stage2_unit3_conv1_weight', 'stage2_unit3_bn2_gamma', 'stage2_unit3_bn2_beta', 'stage2_unit3_conv2_weight', 'stage3_unit1_bn1_gamma', 'stage3_unit1_bn1_beta', 'stage3_unit1_conv1_weight', 'stage3_unit1_bn2_gamma', 'stage3_unit1_bn2_beta', 'stage3_unit1_conv2_weight', 'stage3_unit1_sc_weight', 'stage3_unit2_bn1_gamma', 'stage3_unit2_bn1_beta', 'stage3_unit2_conv1_weight', 'stage3_unit2_bn2_gamma', 'stage3_unit2_bn2_beta', 'stage3_unit2_conv2_weight', 'stage3_unit3_bn1_gamma', 'stage3_unit3_bn1_beta', 'stage3_unit3_conv1_weight', 'stage3_unit3_bn2_gamma', 'stage3_unit3_bn2_beta', 'stage3_unit3_conv2_weight', 'bn1_gamma', 'bn1_beta', 'fc1_weight', 'fc1_bias', 'softmax_label']\n",
      "['softmax_output']\n"
     ]
    }
   ],
   "source": [
    "# 2 model getting \n",
    "# TODO read through resnet.py file for understanding\n",
    "def get_resnet():\n",
    "    net = import_module('resnet')\n",
    "    sym = net.get_symbol(10,20,\"3,28,28\")\n",
    "    return sym \n",
    "sym = get_resnet()\n",
    "\n",
    "# TODO \n",
    "# 1. Plot and visualize the network. Put your comments about its architecture (why bottlenet)\n",
    "# 2. List all weight and output (Question? check MXNET_course/mxnet-week3/cifar10/step_by_step_debug.ipynb)\n",
    "mx.viz.plot_network(sym,hide_weights=False,save_format='pdf',title='resnet8')\n",
    "print sym.list_arguments()\n",
    "print sym.list_outputs()"
   ]
  },
  {
   "cell_type": "code",
   "execution_count": null,
   "metadata": {
    "scrolled": true
   },
   "outputs": [
    {
     "data": {
      "image/png": "[encoded data removed]",
      "text/plain": [
       "<matplotlib.figure.Figure at 0x7f35c8f38a50>"
      ]
     },
     "metadata": {},
     "output_type": "display_data"
    },
    {
     "name": "stdout",
     "output_type": "stream",
     "text": [
      "<type 'numpy.ndarray'>\n",
      "(1, 3, 32, 32)\n"
     ]
    },
    {
     "data": {
      "image/png": "[encoded data removed]",
      "text/plain": [
       "<matplotlib.figure.Figure at 0x7f35c8e35c50>"
      ]
     },
     "metadata": {},
     "output_type": "display_data"
    },
    {
     "name": "stdout",
     "output_type": "stream",
     "text": [
      "<type 'numpy.ndarray'>\n",
      "(1, 3, 32, 32)\n",
      "The very small training dataset contain:  (2, 3, 32, 32)\n",
      "small dataset is:  <class 'mxnet.io.NDArrayIter'>\n",
      "DataBatch: data shapes: [(1L, 3L, 32L, 32L)] label shapes: [(1L,)]\n",
      "DataBatch: data shapes: [(1L, 3L, 32L, 32L)] label shapes: [(1L,)]\n"
     ]
    }
   ],
   "source": [
    "# 3 sanity check random image inference\n",
    "img1 = cv2.imread(\"frog.jpg\")\n",
    "img1 = cv2.resize(img1,(32,32))# you need to pad it if you do padding for you nework\n",
    "plt.imshow(img1)\n",
    "plt.show()\n",
    "print type(img1)\n",
    "img1 = img1.transpose((2,0,1)).reshape((1,3,32,32))\n",
    "print img1.shape\n",
    "\n",
    "img2 = cv2.imread(\"frog2.jpg\")\n",
    "img2 = cv2.resize(img2,(32,32))# you need to pad it if you do padding for you nework\n",
    "plt.imshow(img2)\n",
    "plt.show()\n",
    "print type(img2)\n",
    "img2 = img2.transpose((2,0,1)).reshape((1,3,32,32))\n",
    "print img2.shape\n",
    "\n",
    "img = np.vstack([img1,img2])\n",
    "print \"The very small training dataset contain: \", img.shape\n",
    "\n",
    "# TODO: figure out how to convert numpy array to mx.nd.array\n",
    "img_mxnd = mx.nd.array(source_array=img,ctx=mx.cpu())\n",
    "label_mxnd = mx.nd.array(ctx=mx.cpu(), source_array=np.asarray([6,6])) # 6 is frog\n",
    "img_itr = mx.io.NDArrayIter(data=img_mxnd, data_name='data', label_name ='softmax_label', label=label_mxnd, batch_size=1) # Hint the name should \"data\" and softmax_label\n",
    "print \"small dataset is: \", type(img_itr)\n",
    "for each in img_itr:\n",
    "    print each\n",
    "\n",
    "# TODO bind the random img to network \n",
    "# question? check mxnet-week3/cifar10/train_cifar10.py\n",
    "mod = mx.mod.Module(sym)\n",
    "mod.bind(img_itr.provide_data,img_itr.provide_label)\n",
    "mod.init_params(mx.init.Xavier(rnd_type='gaussian', factor_type='in', magnitude=2)) \n",
    "\n",
    "# run forward perdiction \n",
    "# TODO fill the mod.predict \n",
    "# check mod.predict\n",
    "out = mod.predict(eval_data=img_itr,num_batch=2,reset=True)"
   ]
  },
  {
   "cell_type": "code",
   "execution_count": null,
   "metadata": {},
   "outputs": [],
   "source": [
    "print np.argmax(out.asnumpy(),axis=1)"
   ]
  },
  {
   "cell_type": "code",
   "execution_count": null,
   "metadata": {
    "collapsed": true
   },
   "outputs": [],
   "source": [
    "# 4 overfit small dataset \n",
    "# TODO fill all ???\n",
    "mod.init_params(???) \n",
    "mod.init_optimizer(???) \n",
    "# run forward perdiction\n",
    "metric = mx.metric.create('acc')\n",
    "\n",
    "for epoch in range(5):\n",
    "    img_itr.reset()\n",
    "    metric.reset()\n",
    "    for batch in img_itr:\n",
    "        mod.forward(batch, is_train=True)\n",
    "        mod.update_metric(metric, batch.label)\n",
    "        mod.backward()\n",
    "        mod.update()\n",
    "    print ('Epoch {}, Train {}'.format(epoch, metric.get()))\n",
    "    # You should get 100% accuacy on these two images\n"
   ]
  },
  {
   "cell_type": "code",
   "execution_count": null,
   "metadata": {
    "collapsed": true
   },
   "outputs": [],
   "source": [
    "# 5 (optional) train cifar10 on resnet(~epoch) if you have GPU. Build the training script from week2"
   ]
  },
  {
   "cell_type": "code",
   "execution_count": null,
   "metadata": {
    "collapsed": true
   },
   "outputs": [],
   "source": [
    "# 6 (optional) Wild test on your model "
   ]
  }
 ],
 "metadata": {
  "kernelspec": {
   "display_name": "Python 2",
   "language": "python",
   "name": "python2"
  },
  "language_info": {
   "codemirror_mode": {
    "name": "ipython",
    "version": 2
   },
   "file_extension": ".py",
   "mimetype": "text/x-python",
   "name": "python",
   "nbconvert_exporter": "python",
   "pygments_lexer": "ipython2",
   "version": "2.7.13"
  }
 },
 "nbformat": 4,
 "nbformat_minor": 2
}
